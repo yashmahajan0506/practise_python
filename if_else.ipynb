{
 "cells": [
  {
   "cell_type": "code",
   "execution_count": null,
   "id": "d784777a",
   "metadata": {},
   "outputs": [],
   "source": [
    "# vowels and consonants:-\n",
    "st=input(\"Enter an Alphabet\")\n",
    "vowels=['a','i','o','e','u']\n",
    "\n",
    "if st in vowels:\n",
    "    print('vowels')\n",
    "else:\n",
    "    print('consonant')\n"
   ]
  },
  {
   "cell_type": "code",
   "execution_count": null,
   "id": "d946f871",
   "metadata": {},
   "outputs": [],
   "source": [
    "#multiple codition:-\n",
    "\n",
    "def mul_con(num):\n",
    "    if num > 0 and num %2==0:\n",
    "        print(\"Number is positive and even:\")\n",
    " \n",
    "    elif num < 0 and num %2!=0:\n",
    "        print(\"Number is negative and odd:\")\n",
    "    elif num ==0:\n",
    "        print(\"Number is zero\")\n",
    "    elif num > 0 and num %2!=0:\n",
    "        print(\"Number positive and odd \")\n",
    "    else:\n",
    "        print(\"the number is negative and even \")\n",
    "\n",
    "num1=int(input(\"Enter a number:\"))\n",
    "mul_con(num1)\n"
   ]
  },
  {
   "cell_type": "code",
   "execution_count": null,
   "id": "e43cdc24",
   "metadata": {},
   "outputs": [],
   "source": [
    "#leap_year:-\n",
    "year = int(input(\"Enter the Year :\"))\n",
    "\n",
    "if (year % 400 == 0) and (year % 100 == 0):\n",
    "    print(\" is a leap year\")\n",
    "\n",
    "elif (year % 4 ==0) and (year % 100 != 0):\n",
    "    print(\" is a leap year\")\n",
    "else:\n",
    "    print(\"is not a leap year\")"
   ]
  },
  {
   "cell_type": "code",
   "execution_count": null,
   "id": "c0a6825e",
   "metadata": {},
   "outputs": [],
   "source": [
    "#grade:-\n",
    "\n",
    "num=int(input(\"Enter the Exam score :\"))\n",
    "if num >= 90 :\n",
    "    print(\"Grade  A\")\n",
    "elif num == 80 or num > 80:\n",
    "    print(\"Grade B\")\n",
    "elif num >= 70 or num > 70:\n",
    "    print(\"Grade C\")\n",
    "elif num == 60 or num > 60:\n",
    "    print(\"Grade D\")\n",
    "else:\n",
    "    print(\"Grade is F\")\n",
    "#\n"
   ]
  },
  {
   "cell_type": "code",
   "execution_count": null,
   "id": "57810c75",
   "metadata": {},
   "outputs": [],
   "source": [
    "#even_odd\n",
    "num=int(input(\"Enter the number to check whether Number is odd or even :\"))\n",
    "\n",
    "if num %2==0:\n",
    "    print(f\" {num} is Even Number\")\n",
    "else:\n",
    "    print(f\"{num} is odd number\")\n",
    "    "
   ]
  },
  {
   "cell_type": "code",
   "execution_count": null,
   "id": "b9edf03e",
   "metadata": {},
   "outputs": [],
   "source": [
    "#check_divisibility:\n",
    "num=int(input(\"Enter the number:\"))\n",
    "\n",
    "if num %5==0 and num%7==0:\n",
    "    print(\" the numer is divisible by both\")\n",
    "else:\n",
    "    print(\"it is not divisible by 5 and 7\")\n",
    "\n",
    "#another one :-\n",
    "num=int(input(\"Enter the number:\"))\n",
    "\n",
    "if num %3==0 and num%5==0:\n",
    "    print(\" the numer is divisible by both\")\n",
    "else:\n",
    "    print(\"it is not divisible by 3 and 5\")\n"
   ]
  },
  {
   "cell_type": "code",
   "execution_count": null,
   "id": "a89c5fab",
   "metadata": {},
   "outputs": [],
   "source": [
    "#discount\n",
    "am=int(input(\"Enter the amount:\"))\n",
    "\n",
    "\n",
    "if am >1000:\n",
    "    discount=am *0.9\n",
    "    print(f\"Hey your Total amount with discount is :{discount}\")\n",
    "else:\n",
    "    print(\"you should buy product at leat > 1000\")"
   ]
  },
  {
   "cell_type": "code",
   "execution_count": null,
   "id": "6475acf2",
   "metadata": {},
   "outputs": [],
   "source": [
    "#check alphabate or not \n",
    "str=input(\"Enter an Alphabet:\")\n",
    "\n",
    "if str.isalpha():\n",
    "    print(f\"{str} is an Alphabate\")\n",
    "else:\n",
    "    print(f\"{str} is not an Alphabate:\")\n",
    "\n"
   ]
  },
  {
   "cell_type": "code",
   "execution_count": null,
   "id": "c358259d",
   "metadata": {},
   "outputs": [],
   "source": [
    "#check calculator:-\n",
    "\n",
    "num1=int(input(\"Enter number one:\"))\n",
    "num2=int(input(\"Entet number two:\"))\n",
    "\n",
    "choice=input(\"Enter the choice:\")\n",
    "\n",
    "if choice==\"Add\" or choice ==\"+\":\n",
    "        result=num1+num2\n",
    "        print(result)\n",
    "elif choice==\"Sub\" or choice==\"-\":\n",
    "        result=num1-num2\n",
    "        print(result)\n",
    "elif choice==\"mul\" or choice== \"*\":\n",
    "        result=num1*num2\n",
    "        print(result)\n",
    "elif choice==\"Div\" or choice==\"/\":\n",
    "        result=num1/num2\n",
    "        print(result)\n",
    "elif choice==\"mod\" or choice== \"%\":\n",
    "        result=num1%num2\n",
    "        print(result)\n",
    "#break\n",
    "\n",
    "    \n",
    "    "
   ]
  },
  {
   "cell_type": "code",
   "execution_count": null,
   "id": "cea550ea",
   "metadata": {},
   "outputs": [],
   "source": [
    "# age for voting :-\n",
    "name=input(\"Enter your name:\")\n",
    "age=int(input(\"Enter your age:\"))\n",
    "\n",
    "if age >=18:\n",
    "    print(f\"{name} with this {age} You can vote\")\n",
    "else:\n",
    "    print(f\"{name} you're Not Eligible for voting\")\n",
    "    "
   ]
  },
  {
   "cell_type": "code",
   "execution_count": null,
   "id": "5bb19b6f",
   "metadata": {},
   "outputs": [],
   "source": [
    "#triangle \n",
    "a=int(input(\"Enter side one:\"))\n",
    "b=int(input(\"Enter side two:\"))\n",
    "c=int(input(\"Enter side three:\"))\n",
    "\n",
    "if (a+b >c) and (a+c >b) and (b+c >a):\n",
    "    print(\"valid triangl\")\n",
    "else:\n",
    "    print(\"Inavalud triangle\")"
   ]
  },
  {
   "cell_type": "code",
   "execution_count": null,
   "id": "5d149046",
   "metadata": {},
   "outputs": [],
   "source": [
    "#traffic signle \n",
    "sg=input(\"Enter colour:\")\n",
    "\n",
    "if sg==\"green\":\n",
    "    print(\"You can go\")\n",
    "elif sg==\"red\":\n",
    "    print(\"you can not go\")\n",
    "elif sg==\"yellow\":\n",
    "    print(\"go fast\")\n",
    "else:\n",
    "    print(\"Inavalid colour\")"
   ]
  },
  {
   "cell_type": "code",
   "execution_count": null,
   "id": "14cd9fac",
   "metadata": {},
   "outputs": [],
   "source": [
    "#three_largest\n",
    "\n",
    "num1=int(input(\"Enter the number one:\"))\n",
    "num2=int(input(\"Enter the number two:\"))\n",
    "num3=int(input(\"Enter the number three:\"))\n",
    "\n",
    "if num1>num2 and num1>num3:\n",
    "    print(f\"Number {num1} is greater\")\n",
    "elif num2>num1 and num2>num3:\n",
    "    print(f\"Number {num2} is greater\")\n",
    "elif num3>num1 and num3>num1:\n",
    "    print(f\"Number {num3} is greater\")\n",
    "\n"
   ]
  },
  {
   "cell_type": "code",
   "execution_count": null,
   "id": "ad6defcc",
   "metadata": {},
   "outputs": [],
   "source": [
    "#temprature:\n",
    "temp=int(input(\"Enter the Temprature\"))\n",
    "\n",
    "if temp<15:\n",
    "    print(\"cold\")\n",
    "elif temp <=15 and temp <=30:\n",
    "    print(\"it's warm\")\n",
    "else:\n",
    "    print(\"It's hot \")"
   ]
  },
  {
   "cell_type": "code",
   "execution_count": null,
   "id": "e2fd57eb",
   "metadata": {},
   "outputs": [],
   "source": [
    "#smallest_three\n",
    "\n",
    "num1=int(input(\"Enter the number one:\"))\n",
    "num2=int(input(\"Enter the number two:\"))\n",
    "num3=int(input(\"Enter the number three:\"))\n",
    "\n",
    "if num1<num2 and num1<num3:\n",
    "    print(f\"Number {num1} is smaller\")\n",
    "elif num2<num1 and num2<num3:\n",
    "    print(f\"Number {num2} is smaller\")\n",
    "elif num3<num1 and num3<num1:\n",
    "    print(f\"Number {num3} is smaller\")\n",
    "\n",
    "\n"
   ]
  },
  {
   "cell_type": "code",
   "execution_count": null,
   "id": "efed8834",
   "metadata": {},
   "outputs": [],
   "source": [
    "#prime number\n",
    "\n",
    "num=int(input(\"Enter the Number:\"))\n",
    "\n",
    "if num <=0:\n",
    "    print(\"it is not prime number\")\n",
    "else:\n",
    "    if num ==1:\n",
    "        print(\"it is not prime number\")\n",
    "    else:\n",
    "        for i in range(2,num):\n",
    "            if num %2==0:\n",
    "                print(\"The number is is not prime\")\n",
    "            else:\n",
    "                print(\"The number is prime:\")\n",
    "                break\n",
    "        print(\"It is prime number \")\n",
    "\n",
    "\n"
   ]
  },
  {
   "cell_type": "code",
   "execution_count": null,
   "id": "218f32c5",
   "metadata": {},
   "outputs": [],
   "source": [
    "#positive_negative\n",
    "num=int(input(\"Enter the number to check whether it is positive or negative:\"))\n",
    "\n",
    "if num > 0:\n",
    "    print(f\" {num} is positive number:\")\n",
    "elif num==0:\n",
    "    print(f\" {num}  is zero:\")\n",
    "else:\n",
    "    print(f\"The {num} you've enterd is Negative number:\")\n"
   ]
  },
  {
   "cell_type": "code",
   "execution_count": null,
   "id": "b9e1f994",
   "metadata": {},
   "outputs": [],
   "source": [
    "#palindrom\n",
    "st=input(\"Enter the String\")\n",
    "temp=st[::-1]\n",
    "\n",
    "#print(temp)\n",
    "if st==temp:\n",
    "    print(\"Palindrom\")\n",
    "else:\n",
    "    print(\"Not palindrom\")"
   ]
  }
 ],
 "metadata": {
  "kernelspec": {
   "display_name": "Python 3 (ipykernel)",
   "language": "python",
   "name": "python3"
  },
  "language_info": {
   "codemirror_mode": {
    "name": "ipython",
    "version": 3
   },
   "file_extension": ".py",
   "mimetype": "text/x-python",
   "name": "python",
   "nbconvert_exporter": "python",
   "pygments_lexer": "ipython3",
   "version": "3.13.5"
  }
 },
 "nbformat": 4,
 "nbformat_minor": 5
}
