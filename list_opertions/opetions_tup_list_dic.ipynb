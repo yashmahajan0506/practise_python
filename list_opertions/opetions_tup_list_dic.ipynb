{
 "cells": [
  {
   "cell_type": "code",
   "execution_count": null,
   "id": "7388e45b",
   "metadata": {},
   "outputs": [],
   "source": [
    "#sum of natural numbers:\n",
    "\n",
    "def check_sum(n):\n",
    "        sum=0\n",
    "        i=1\n",
    "        if n > 0:\n",
    "                while i<=n:\n",
    "                        sum=sum+i\n",
    "                        i=i+1\n",
    "                print(sum)\n",
    "        else:\n",
    "                pass                \n",
    "check_sum(5)"
   ]
  },
  {
   "cell_type": "code",
   "execution_count": null,
   "id": "ad512fad",
   "metadata": {},
   "outputs": [],
   "source": [
    "#sum of even numbers in list index:-\n",
    "\n",
    "def sum_even_list():\n",
    "    list1=[1,2,4,4,6,8,9,1]\n",
    "    sum_even_position=0\n",
    "    for i in range(len(list1)):\n",
    "        if i %2==0:\n",
    "            sum_even_position=sum_even_position+list1[i]\n",
    "    print(sum_even_position)          \n",
    "\n",
    "print(sum_even_list())\n",
    " \n"
   ]
  },
  {
   "cell_type": "code",
   "execution_count": null,
   "id": "a70d02b3",
   "metadata": {},
   "outputs": [],
   "source": [
    "#substring in list python:-\n",
    "\n",
    "def tocheck_substring(string_list):\n",
    "    subs='f'\n",
    "    for i in string_list:\n",
    "        if subs in i:\n",
    "            print(\"true\")\n",
    "            break\n",
    "        else:\n",
    "            print(\"false\")\n",
    "            break\n",
    "string_list=['apple','bananan','grape']\n",
    "tocheck_substring(string_list)"
   ]
  },
  {
   "cell_type": "code",
   "execution_count": null,
   "id": "d301e5c6",
   "metadata": {},
   "outputs": [],
   "source": [
    "#sublist exist in python :-\n",
    "\n",
    "list1=[1,2,3,4,5]\n",
    "sublist=[2,3]\n",
    "\n",
    "for i in list1:\n",
    "    if i in sublist:\n",
    "        print(\"true\")\n",
    "    else:\n",
    "        pass"
   ]
  },
  {
   "cell_type": "code",
   "execution_count": null,
   "id": "bca759da",
   "metadata": {},
   "outputs": [],
   "source": [
    "#square of even index numbers in list :\n",
    "\n",
    "mylist=[1,2,3,4,5,6]\n",
    "sum=0\n",
    "for i in mylist:\n",
    "    if i %2==0:\n",
    "       sq =i*i\n",
    "    #    print(sq)\n",
    "       sum=sum+sq\n",
    "print(f\"sum = {sum}\")\n"
   ]
  },
  {
   "cell_type": "code",
   "execution_count": null,
   "id": "01752bd3",
   "metadata": {},
   "outputs": [],
   "source": [
    "#difference of tuple in list\n",
    "\n",
    "\n",
    "def diff_tup():\n",
    "        list1=[(5,2),(8,3),(10,6)]\n",
    "        a,b,c=list1\n",
    "        z1=a[0]-a[1]\n",
    "        z2=b[0]-b[1]    \n",
    "        z3=c[0]-c[1]\n",
    "        res={z1,z2,z3}\n",
    "        print(res)\n",
    "    \n",
    "\n",
    "print(diff_tup())"
   ]
  },
  {
   "cell_type": "code",
   "execution_count": null,
   "id": "ec68fe2f",
   "metadata": {},
   "outputs": [],
   "source": [
    "#remove empty space from string :-\n",
    "\n",
    "def check_string_empty(mylist):\n",
    "    empty_list=[]\n",
    "    \n",
    "    for i in mylist:\n",
    "        if i!=\"\":\n",
    "         \n",
    "         empty_list.append(i)\n",
    "    print(empty_list)\n",
    "\n",
    "mylist=[\"apple\",\"\",\"banana\",\"grape\",\"\"]\n",
    "check_string_empty(mylist)"
   ]
  },
  {
   "cell_type": "code",
   "execution_count": null,
   "id": "0e83b43c",
   "metadata": {},
   "outputs": [],
   "source": [
    "#check minimum and maximum in tuple:\n",
    "\n",
    "def check_max_min(mylist):\n",
    "    elements=[num for tup in mylist for num in tup ]\n",
    "    print(\"Maximum : \",max(elements))\n",
    "    print(\"Minimun : \",min(elements))\n",
    "mylist=[(0,5),(2,8),(7,11),(20,11)]\n",
    "check_max_min(mylist)\n",
    "\n",
    "#print(value)\n",
    "# for i in mylist:\n",
    "#     for j in i:\n",
    "#       if j >value:\n",
    "#        value=j\n",
    "\n",
    "# print(value)\n"
   ]
  },
  {
   "cell_type": "code",
   "execution_count": null,
   "id": "4eeca6be",
   "metadata": {},
   "outputs": [],
   "source": [
    "#longest string in list:\n",
    "def check_bigger_element(mylist):\n",
    "    for i in mylist:\n",
    "        if len(i) > 6:\n",
    "            print(i)\n",
    "mylist=[\"apple\",\"banana\",\"grapeeeee\"]\n",
    "check_bigger_element(mylist)\n"
   ]
  },
  {
   "cell_type": "code",
   "execution_count": null,
   "id": "a1683c0d",
   "metadata": {},
   "outputs": [],
   "source": [
    "#list of tuple  to dict:-\n",
    "def convert_to_dict(mylist):\n",
    "    mydict=dict(mylist)\n",
    "    print(mydict)\n",
    "\n",
    "mylist=[('apple',3),('banana',2),('grape',1)]\n",
    "convert_to_dict(mylist)\n",
    "\n",
    "\n"
   ]
  },
  {
   "cell_type": "code",
   "execution_count": null,
   "id": "be97c775",
   "metadata": {},
   "outputs": [],
   "source": [
    "#list of tuple of sum :\n",
    "\n",
    "def diff_sum(list1):\n",
    "        \n",
    "        a,b,c=list1\n",
    "        z1=a[0]+a[1]\n",
    "        z2=b[0]+b[1]    \n",
    "        z3=c[0]+c[1]\n",
    "        res={z1,z2,z3}\n",
    "        print(res)\n",
    "    \n",
    "list1=[(1,2),(3,4),(5,6)]\n",
    "print(diff_sum(list1))\n",
    "\n"
   ]
  },
  {
   "cell_type": "code",
   "execution_count": null,
   "id": "e77fb000",
   "metadata": {},
   "outputs": [],
   "source": [
    "#find words:-\n",
    "\n",
    "mylist=['apple','bannana ','grape',\"frutie\"]\n",
    "\n",
    "letter='a'\n",
    "empty_list=[]\n",
    "\n",
    "for i in mylist:\n",
    "    if letter in i:\n",
    "        empty_list.append(i)\n",
    "    else:\n",
    "        print(\"Provide Valid string\")\n",
    "print(empty_list)\n",
    "\n",
    "\n"
   ]
  },
  {
   "cell_type": "code",
   "execution_count": null,
   "id": "6ce4c81a",
   "metadata": {},
   "outputs": [],
   "source": [
    "#filter words:-\n",
    "def filter_word():\n",
    "    list1=[\"apple\",\"is\",\"a\",\"fruit\"]\n",
    "    len_alpha=4\n",
    "    for i in list1:\n",
    "        if len(i) < 4 :\n",
    "           list1.remove(i)\n",
    "        else:\n",
    "          print(i)\n",
    "\n",
    "filter_word()"
   ]
  },
  {
   "cell_type": "code",
   "execution_count": null,
   "id": "98a0852f",
   "metadata": {},
   "outputs": [],
   "source": [
    "#unique elements in list\n",
    "\n",
    "def check_elements_unique(my_list):\n",
    "    a=mylist[0]\n",
    "    b=mylist[1]\n",
    "    c=mylist[2]\n",
    "\n",
    "    if a==b or b==c or a==c:\n",
    "     print(\"false\")\n",
    "    else:\n",
    "        print(\"true\")\n",
    "# print(a,b,c)\n",
    "mylist=[( 1,2),(1,2),(1,3)]\n",
    "check_elements_unique(mylist)\n",
    "\n"
   ]
  },
  {
   "cell_type": "code",
   "execution_count": null,
   "id": "0d44d4c9",
   "metadata": {},
   "outputs": [],
   "source": [
    "#duplicate elements-\n",
    "\n",
    "def remove_duplicate():\n",
    "    tup=(1,2,3,4,5,1,2,3,4,5)\n",
    "    a=tuple(set(tup))\n",
    "    print(a)\n",
    "\n",
    "remove_duplicate()"
   ]
  },
  {
   "cell_type": "code",
   "execution_count": null,
   "id": "8de00845",
   "metadata": {},
   "outputs": [],
   "source": [
    "#divide list:-\n",
    "\n",
    "list1=[1,2,3,4,5,6,7]\n",
    "\n",
    "mid=(len(list1)+1)//2\n",
    "\n",
    "first_half=list1[:mid]\n",
    "second_half=list1[mid:]\n",
    "\n",
    "print(\"list1\",first_half)\n",
    "print(second_half)\n"
   ]
  },
  {
   "cell_type": "code",
   "execution_count": null,
   "id": "05308468",
   "metadata": {},
   "outputs": [],
   "source": [
    "#common charactter in list:\n",
    "strings = [\"apple\", \"apricot\", \"app\"]\n",
    "\n",
    "common_chars = set(strings[0] )\n",
    "\n",
    "for s in strings[1:]:\n",
    "    common_chars = common_chars & set(s)  \n",
    "\n",
    "print(\"Common characters:\", common_chars)\n",
    "\n",
    "\n"
   ]
  },
  {
   "cell_type": "code",
   "execution_count": null,
   "id": "281aa6ae",
   "metadata": {},
   "outputs": [],
   "source": [
    "#check_tuple_is_positve\n",
    "\n",
    "def check_tuple_postive(mylist):\n",
    "    value=[num for tup in mylist for num in tup]\n",
    "    #print(value)\n",
    "    for i in value:\n",
    "      if i >1:\n",
    "       print(\"true\")\n",
    "    else:\n",
    "        print(\"false\")\n",
    "\n",
    "mylist=[(1,0),(3,-1)]\n",
    "print(check_tuple_postive(mylist))\n",
    "\n",
    "\n"
   ]
  },
  {
   "cell_type": "code",
   "execution_count": null,
   "id": "0b426472",
   "metadata": {},
   "outputs": [],
   "source": [
    "#avrage elements greater \n",
    "\n",
    "def elem_greater(mylist):\n",
    "\n",
    "    lenght=len(mylist)\n",
    "    sum_value=sum(mylist)\n",
    "    lenght_value=sum_value//lenght\n",
    "    print(mylist[lenght_value:])\n",
    "\n",
    "mylist=[1,2,3,4,5,6]\n",
    "elem_greater(mylist)\n",
    "\n",
    "\n",
    "\n"
   ]
  },
  {
   "cell_type": "code",
   "execution_count": null,
   "id": "b087dc9e",
   "metadata": {},
   "outputs": [],
   "source": [
    "#even_odd in list \n",
    "def even_odd_list():\n",
    "    list1=[5,2,9,1,7,8,6]\n",
    "    even_set={num for num in list1 if num %2==0}\n",
    "    odd_set={num for num in list1 if num %2!=0}\n",
    "    print(even_set)\n",
    "    print(odd_set)\n",
    "even_odd_list()\n",
    "\n",
    "\n",
    "\n",
    "\n",
    "# even_set=set()\n",
    "# odd_set=set()\n",
    "\n",
    "# for i in list1:\n",
    "#     if i%2==0:\n",
    "#         even_set.add(i)\n",
    "#     elif i%2!=0:\n",
    "#         odd_set.add(i)\n",
    "        \n",
    "\n",
    "\n",
    "\n"
   ]
  }
 ],
 "metadata": {
  "language_info": {
   "name": "python"
  }
 },
 "nbformat": 4,
 "nbformat_minor": 5
}
